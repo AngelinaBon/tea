{
 "cells": [
  {
   "cell_type": "code",
   "execution_count": null,
   "metadata": {},
   "outputs": [
    {
     "name": "stdout",
     "output_type": "stream",
     "text": [
      "Requirement already satisfied: selenium in c:\\users\\user\\appdata\\local\\programs\\python\\python310\\lib\\site-packages (4.29.0)\n",
      "Requirement already satisfied: certifi>=2021.10.8 in c:\\users\\user\\appdata\\local\\programs\\python\\python310\\lib\\site-packages (from selenium) (2025.1.31)\n",
      "Requirement already satisfied: trio~=0.17 in c:\\users\\user\\appdata\\local\\programs\\python\\python310\\lib\\site-packages (from selenium) (0.29.0)\n",
      "Requirement already satisfied: urllib3[socks]<3,>=1.26 in c:\\users\\user\\appdata\\local\\programs\\python\\python310\\lib\\site-packages (from selenium) (2.3.0)\n",
      "Requirement already satisfied: trio-websocket~=0.9 in c:\\users\\user\\appdata\\local\\programs\\python\\python310\\lib\\site-packages (from selenium) (0.12.2)\n",
      "Requirement already satisfied: websocket-client~=1.8 in c:\\users\\user\\appdata\\local\\programs\\python\\python310\\lib\\site-packages (from selenium) (1.8.0)\n",
      "Requirement already satisfied: typing_extensions~=4.9 in c:\\users\\user\\appdata\\roaming\\python\\python310\\site-packages (from selenium) (4.12.2)\n",
      "Requirement already satisfied: attrs>=23.2.0 in c:\\users\\user\\appdata\\local\\programs\\python\\python310\\lib\\site-packages (from trio~=0.17->selenium) (25.3.0)\n",
      "Requirement already satisfied: outcome in c:\\users\\user\\appdata\\local\\programs\\python\\python310\\lib\\site-packages (from trio~=0.17->selenium) (1.3.0.post0)\n",
      "Requirement already satisfied: cffi>=1.14 in c:\\users\\user\\appdata\\local\\programs\\python\\python310\\lib\\site-packages (from trio~=0.17->selenium) (1.17.1)\n",
      "Requirement already satisfied: exceptiongroup in c:\\users\\user\\appdata\\roaming\\python\\python310\\site-packages (from trio~=0.17->selenium) (1.2.2)\n",
      "Requirement already satisfied: sniffio>=1.3.0 in c:\\users\\user\\appdata\\local\\programs\\python\\python310\\lib\\site-packages (from trio~=0.17->selenium) (1.3.1)\n",
      "Requirement already satisfied: idna in c:\\users\\user\\appdata\\local\\programs\\python\\python310\\lib\\site-packages (from trio~=0.17->selenium) (3.10)\n",
      "Requirement already satisfied: sortedcontainers in c:\\users\\user\\appdata\\local\\programs\\python\\python310\\lib\\site-packages (from trio~=0.17->selenium) (2.4.0)\n",
      "Requirement already satisfied: wsproto>=0.14 in c:\\users\\user\\appdata\\local\\programs\\python\\python310\\lib\\site-packages (from trio-websocket~=0.9->selenium) (1.2.0)\n",
      "Requirement already satisfied: pysocks!=1.5.7,<2.0,>=1.5.6 in c:\\users\\user\\appdata\\local\\programs\\python\\python310\\lib\\site-packages (from urllib3[socks]<3,>=1.26->selenium) (1.7.1)\n",
      "Requirement already satisfied: pycparser in c:\\users\\user\\appdata\\local\\programs\\python\\python310\\lib\\site-packages (from cffi>=1.14->trio~=0.17->selenium) (2.22)\n",
      "Requirement already satisfied: h11<1,>=0.9.0 in c:\\users\\user\\appdata\\local\\programs\\python\\python310\\lib\\site-packages (from wsproto>=0.14->trio-websocket~=0.9->selenium) (0.14.0)\n",
      "Note: you may need to restart the kernel to use updated packages.\n"
     ]
    },
    {
     "name": "stderr",
     "output_type": "stream",
     "text": [
      "\n",
      "[notice] A new release of pip available: 22.2.1 -> 25.0.1\n",
      "[notice] To update, run: python.exe -m pip install --upgrade pip\n"
     ]
    }
   ],
   "source": [
    "pip install selenium"
   ]
  },
  {
   "cell_type": "code",
   "execution_count": 1,
   "metadata": {},
   "outputs": [],
   "source": [
    "from selenium import webdriver\n",
    "from selenium.webdriver.common.by import By\n",
    "from selenium.webdriver.support.ui import WebDriverWait\n",
    "from selenium.webdriver.support import expected_conditions as EC\n",
    "from selenium.webdriver.common.keys import Keys\n",
    "import time"
   ]
  },
  {
   "cell_type": "markdown",
   "metadata": {},
   "source": [
    "Функция, которая ищет расстояние между 2 точками через Яндекс карты.\n",
    "Она позволит рассчитать расстояние, которое нужно проехать машине с товаром от места производства сырья до склада и от склада до страны сбыта. Координаты склада и сырья беру как данность"
   ]
  },
  {
   "cell_type": "code",
   "execution_count": 3,
   "metadata": {},
   "outputs": [],
   "source": [
    "def get_distance(lat1, lon1, lat2, lon2):\n",
    "    driver = webdriver.Chrome()\n",
    "    driver.get(\"https://yandex.ru/maps\")\n",
    "    try:\n",
    "        my_search = WebDriverWait(driver, 10).until(EC.presence_of_element_located((By.CLASS_NAME, \"input__control\"))) #чекнуть, что класс, там еще bold, оно не оно\n",
    "        my_search.send_keys(str(lat1), ' ', str(lon1))\n",
    "        my_search.send_keys(Keys.RETURN) #имитирую нажание enter с клавиатуры\n",
    "    \n",
    "        #ввели координаты, теперь нужно, чтобы появилось окошко для вторых координат, хочу нажать на маршрутную кнопку\n",
    "        my_path = WebDriverWait(driver, 10).until(EC.presence_of_element_located((By.CLASS_NAME, \"action-button-view._type_route\")))\n",
    "        my_path.click()\n",
    "        #теперь я оказалась в месте, где заполнено \"куда\" и хочу попасть в \"откуда\"\n",
    "        \n",
    "        #так же как заполняла search заполняю \"откуда\"\n",
    "        time.sleep(2)\n",
    "        froms= WebDriverWait(driver, 20).until(EC.presence_of_all_elements_located((By.CLASS_NAME, \"input__control\")))\n",
    "        time.sleep(2)\n",
    "\n",
    "        my_from = froms[1]\n",
    "        my_from.send_keys(str(lat2), ' ', str(lon2))\n",
    "        my_from.send_keys(Keys.RETURN) \n",
    "        length = WebDriverWait(driver, 10).until(EC.presence_of_element_located((By.CLASS_NAME, \"auto-route-snippet-view__route-subtitle\"))).text\n",
    "        return length\n",
    "    except:\n",
    "        print('ошибка в момент обращения')\n",
    "    finally:\n",
    "        driver.quit()\n",
    "\n",
    "#lat1, lon1 - координаты точки назначения\n",
    "#lat2, lon2 - координаты точки отправления\n"
   ]
  },
  {
   "cell_type": "code",
   "execution_count": 4,
   "metadata": {},
   "outputs": [
    {
     "name": "stdout",
     "output_type": "stream",
     "text": [
      "Requirement already satisfied: pandas in c:\\users\\user\\appdata\\local\\programs\\python\\python310\\lib\\site-packages (2.2.3)\n",
      "Requirement already satisfied: python-dateutil>=2.8.2 in c:\\users\\user\\appdata\\roaming\\python\\python310\\site-packages (from pandas) (2.9.0.post0)\n",
      "Requirement already satisfied: tzdata>=2022.7 in c:\\users\\user\\appdata\\local\\programs\\python\\python310\\lib\\site-packages (from pandas) (2025.1)\n",
      "Requirement already satisfied: pytz>=2020.1 in c:\\users\\user\\appdata\\local\\programs\\python\\python310\\lib\\site-packages (from pandas) (2025.1)\n",
      "Requirement already satisfied: numpy>=1.22.4 in c:\\users\\user\\appdata\\local\\programs\\python\\python310\\lib\\site-packages (from pandas) (2.2.4)\n",
      "Requirement already satisfied: six>=1.5 in c:\\users\\user\\appdata\\roaming\\python\\python310\\site-packages (from python-dateutil>=2.8.2->pandas) (1.17.0)\n",
      "Note: you may need to restart the kernel to use updated packages.\n"
     ]
    },
    {
     "name": "stderr",
     "output_type": "stream",
     "text": [
      "\n",
      "[notice] A new release of pip available: 22.2.1 -> 25.0.1\n",
      "[notice] To update, run: python.exe -m pip install --upgrade pip\n"
     ]
    }
   ],
   "source": [
    "pip install pandas"
   ]
  },
  {
   "cell_type": "code",
   "execution_count": 5,
   "metadata": {},
   "outputs": [],
   "source": [
    "import pandas as pd"
   ]
  },
  {
   "cell_type": "code",
   "execution_count": 6,
   "metadata": {},
   "outputs": [
    {
     "name": "stdout",
     "output_type": "stream",
     "text": [
      "              Country name  latitude  longitude\n",
      "0   Bosnia and Herzegovina  43.86700   18.41700\n",
      "1                  Moldova  47.00000   28.91700\n",
      "2               Kyrgyzstan  42.86700   74.60000\n",
      "3               Montenegro  42.78300   19.46700\n",
      "4                  Belarus  53.91700   27.55000\n",
      "5                   Russia  55.75583   37.61722\n",
      "6               Tajikistan  38.55000   68.80000\n",
      "7                  Armenia  40.18300   44.51700\n",
      "8                 Bulgaria  42.69750   23.32250\n",
      "9               Azerbaijan  40.38300   49.83300\n",
      "10                 Albania  41.31700   19.81700\n",
      "11         North Macedonia  42.00000   21.43300\n",
      "12            Turkmenistan  37.96700   58.33300\n",
      "13                 Georgia  41.71700   44.78300\n",
      "14                 Ukraine  50.45000   30.51700\n"
     ]
    }
   ],
   "source": [
    "#подключаю датайрейм из первой части проекта\n",
    "path = \"C:/Users/User/Downloads/final_df.csv\"\n",
    "df = pd.read_csv(path)\n",
    "#выкидываю, все, что не нужно\n",
    "df = df[['Country name', 'latitude', 'longitude']]\n",
    "print(df)"
   ]
  },
  {
   "cell_type": "code",
   "execution_count": 7,
   "metadata": {},
   "outputs": [
    {
     "name": "stdout",
     "output_type": "stream",
     "text": [
      "3 200 км\n",
      "2 470 км\n",
      "2 970 км\n",
      "3 300 км\n",
      "1 550 км\n",
      "840 км\n",
      "3 100 км\n",
      "2 310 км\n",
      "3 400 км\n",
      "ошибка в момент обращения\n",
      "None\n",
      "3 600 км\n",
      "3 400 км\n",
      "2 980 км\n",
      "2 040 км\n",
      "2 270 км\n",
      "              Country name  latitude  longitude Расстояние от склада до страны\n",
      "0   Bosnia and Herzegovina  43.86700   18.41700                       3 200 км\n",
      "1                  Moldova  47.00000   28.91700                       2 470 км\n",
      "2               Kyrgyzstan  42.86700   74.60000                       2 970 км\n",
      "3               Montenegro  42.78300   19.46700                       3 300 км\n",
      "4                  Belarus  53.91700   27.55000                       1 550 км\n",
      "5                   Russia  55.75583   37.61722                         840 км\n",
      "6               Tajikistan  38.55000   68.80000                       3 100 км\n",
      "7                  Armenia  40.18300   44.51700                       2 310 км\n",
      "8                 Bulgaria  42.69750   23.32250                       3 400 км\n",
      "9               Azerbaijan  40.38300   49.83300                           None\n",
      "10                 Albania  41.31700   19.81700                       3 600 км\n",
      "11         North Macedonia  42.00000   21.43300                       3 400 км\n",
      "12            Turkmenistan  37.96700   58.33300                       2 980 км\n",
      "13                 Georgia  41.71700   44.78300                       2 040 км\n",
      "14                 Ukraine  50.45000   30.51700                       2 270 км\n"
     ]
    }
   ],
   "source": [
    "#ищу расстояния между складом в казани и каждой из стран\n",
    "df['Расстояние от склада до страны'] = None\n",
    "lat_kaz = float(55.79083)\n",
    "lon_kaz = float(49.11444) #координаты склада\n",
    "for index, row in df.iterrows():\n",
    "    lat_country = row['latitude']\n",
    "    lon_country = row['longitude']\n",
    "    factory_country = get_distance(lat_country, lon_country, lat_kaz, lon_kaz)\n",
    "    print(factory_country)\n",
    "    df.at[index, 'Расстояние от склада до страны'] = factory_country\n",
    "print(df)"
   ]
  },
  {
   "cell_type": "code",
   "execution_count": 16,
   "metadata": {},
   "outputs": [
    {
     "name": "stdout",
     "output_type": "stream",
     "text": [
      "              Country name  latitude  longitude Расстояние от склада до страны\n",
      "0   Bosnia and Herzegovina  43.86700   18.41700                       3 200 км\n",
      "1                  Moldova  47.00000   28.91700                       2 470 км\n",
      "2               Kyrgyzstan  42.86700   74.60000                       2 970 км\n",
      "3               Montenegro  42.78300   19.46700                       3 300 км\n",
      "4                  Belarus  53.91700   27.55000                       1 550 км\n",
      "5                   Russia  55.75583   37.61722                         840 км\n",
      "6               Tajikistan  38.55000   68.80000                       3 100 км\n",
      "7                  Armenia  40.18300   44.51700                       2 310 км\n",
      "8                 Bulgaria  42.69750   23.32250                       3 400 км\n",
      "10                 Albania  41.31700   19.81700                       3 600 км\n",
      "11         North Macedonia  42.00000   21.43300                       3 400 км\n",
      "12            Turkmenistan  37.96700   58.33300                       2 980 км\n",
      "13                 Georgia  41.71700   44.78300                       2 040 км\n",
      "14                 Ukraine  50.45000   30.51700                       2 270 км\n"
     ]
    }
   ],
   "source": [
    "df_2 = df.dropna()\n",
    "print(df_2)"
   ]
  },
  {
   "cell_type": "code",
   "execution_count": 17,
   "metadata": {},
   "outputs": [
    {
     "name": "stdout",
     "output_type": "stream",
     "text": [
      "              Country name  latitude  longitude Расстояние от склада до страны\n",
      "4                  Belarus    53.917     27.550                       1 550 км\n",
      "13                 Georgia    41.717     44.783                       2 040 км\n",
      "14                 Ukraine    50.450     30.517                       2 270 км\n",
      "7                  Armenia    40.183     44.517                       2 310 км\n",
      "1                  Moldova    47.000     28.917                       2 470 км\n",
      "2               Kyrgyzstan    42.867     74.600                       2 970 км\n",
      "12            Turkmenistan    37.967     58.333                       2 980 км\n",
      "6               Tajikistan    38.550     68.800                       3 100 км\n",
      "0   Bosnia and Herzegovina    43.867     18.417                       3 200 км\n",
      "3               Montenegro    42.783     19.467                       3 300 км\n"
     ]
    }
   ],
   "source": [
    "#теперь выбираю страны с минимальной дальностью доставки\n",
    "df_sorted = df.sort_values(by='Расстояние от склада до страны')\n",
    "df_top10 = df_sorted.head(10)\n",
    "print(df_top10)"
   ]
  },
  {
   "cell_type": "code",
   "execution_count": 18,
   "metadata": {},
   "outputs": [
    {
     "name": "stdout",
     "output_type": "stream",
     "text": [
      "   Unnamed: 0            город   долгота    широта  растение цена\n",
      "1           0  Санкт-Петербург  30.31667  59.95000   мелисса  100\n",
      "2           1          Чусовой  57.81667  58.28333  иван-чай  250\n",
      "3           2           Тюмень  65.53333  57.15000      мята  100\n"
     ]
    }
   ],
   "source": [
    "#теперь ищу для каждого сорта растения расстояние от поля до склада, result_df - датасет с местами, где растет сырье и их координатами\n",
    "path2 = \"C:/Users/User/Downloads/result_df.csv\"\n",
    "result_df = pd.read_csv(path2)\n",
    "result_df = result_df.drop(0)\n",
    "print(result_df)\n"
   ]
  },
  {
   "cell_type": "code",
   "execution_count": 19,
   "metadata": {},
   "outputs": [
    {
     "name": "stdout",
     "output_type": "stream",
     "text": [
      "1 530 км\n",
      "790 км\n",
      "1 360 км\n",
      "   Unnamed: 0            город   долгота    широта  растение цена  \\\n",
      "1           0  Санкт-Петербург  30.31667  59.95000   мелисса  100   \n",
      "2           1          Чусовой  57.81667  58.28333  иван-чай  250   \n",
      "3           2           Тюмень  65.53333  57.15000      мята  100   \n",
      "\n",
      "  Расстояние от растения до склада  \n",
      "1                         1 530 км  \n",
      "2                           790 км  \n",
      "3                         1 360 км  \n"
     ]
    }
   ],
   "source": [
    "result_df['Расстояние от растения до склада'] = None\n",
    "lat_kaz = float(55.79083)\n",
    "lon_kaz = float(49.11444) #координаты склада\n",
    "for index, row in result_df.iterrows():\n",
    "    lat_plant = row['широта']\n",
    "    lon_plant = row['долгота']\n",
    "    factory_plant = get_distance(lat_kaz, lon_kaz, lat_plant, lon_plant)\n",
    "    print(factory_plant) \n",
    "    result_df.at[index, 'Расстояние от растения до склада'] = factory_plant\n",
    "print(result_df)"
   ]
  }
 ],
 "metadata": {
  "kernelspec": {
   "display_name": "Python 3",
   "language": "python",
   "name": "python3"
  },
  "language_info": {
   "codemirror_mode": {
    "name": "ipython",
    "version": 3
   },
   "file_extension": ".py",
   "mimetype": "text/x-python",
   "name": "python",
   "nbconvert_exporter": "python",
   "pygments_lexer": "ipython3",
   "version": "3.10.6"
  }
 },
 "nbformat": 4,
 "nbformat_minor": 2
}
